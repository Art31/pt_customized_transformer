{
 "cells": [
  {
   "cell_type": "markdown",
   "metadata": {},
   "source": [
    "### Comunicating with google api and generating BLEU score"
   ]
  },
  {
   "cell_type": "code",
   "execution_count": 1,
   "metadata": {},
   "outputs": [
    {
     "data": {
      "text/plain": [
       "555845"
      ]
     },
     "execution_count": 1,
     "metadata": {},
     "output_type": "execute_result"
    }
   ],
   "source": [
    "text_file1 = open(\"/home/arthurtelles/Downloads/port_test.txt\", \"r+\").read()\n",
    "len(text_file1)"
   ]
  },
  {
   "cell_type": "code",
   "execution_count": 2,
   "metadata": {},
   "outputs": [
    {
     "data": {
      "text/plain": [
       "str"
      ]
     },
     "execution_count": 2,
     "metadata": {},
     "output_type": "execute_result"
    }
   ],
   "source": [
    "type(text_file1)"
   ]
  },
  {
   "cell_type": "code",
   "execution_count": 3,
   "metadata": {},
   "outputs": [
    {
     "data": {
      "text/plain": [
       "'eu não gosto da minha sala .\\nnão funcionará .\\nos pais do tom moram em uma casa grande .\\nisso é mais '"
      ]
     },
     "execution_count": 3,
     "metadata": {},
     "output_type": "execute_result"
    }
   ],
   "source": [
    "text_file1[:100]"
   ]
  },
  {
   "cell_type": "code",
   "execution_count": 4,
   "metadata": {},
   "outputs": [
    {
     "data": {
      "text/plain": [
       "16513"
      ]
     },
     "execution_count": 4,
     "metadata": {},
     "output_type": "execute_result"
    }
   ],
   "source": [
    "text_list = text_file1.split('\\n')\n",
    "len(text_list)"
   ]
  },
  {
   "cell_type": "code",
   "execution_count": 5,
   "metadata": {},
   "outputs": [
    {
     "data": {
      "text/plain": [
       "['eu não gosto da minha sala .',\n",
       " 'não funcionará .',\n",
       " 'os pais do tom moram em uma casa grande .',\n",
       " 'isso é mais difícil do que eu esperava .',\n",
       " 'o francês do tom é muito bom .']"
      ]
     },
     "execution_count": 5,
     "metadata": {},
     "output_type": "execute_result"
    }
   ],
   "source": [
    "text_list[:5]"
   ]
  },
  {
   "cell_type": "code",
   "execution_count": 6,
   "metadata": {},
   "outputs": [
    {
     "name": "stderr",
     "output_type": "stream",
     "text": [
      "100%|██████████| 16513/16513 [1:18:09<00:00,  3.52it/s]\n"
     ]
    }
   ],
   "source": [
    "\"\"\"Translates text into the target language.\n",
    "\n",
    "Target must be an ISO 639-1 language code.\n",
    "See https://g.co/cloud/translate/v2/translate-reference#supported_languages\n",
    "\"\"\"\n",
    "from google.cloud import translate_v2 as translate\n",
    "import six\n",
    "from tqdm import tqdm\n",
    "\n",
    "translate_client = translate.Client()\n",
    "\n",
    "# RODAR export GOOGLE_APPLICATION_CREDENTIALS=\"/home/arthurtelles/gtranslate-api-290022-4899f0c9d3f7.json\"\n",
    "\n",
    "# text = 'ola eu gosto de framboesa'\n",
    "result_list = []\n",
    "\n",
    "# Text can also be a sequence of strings, in which case this method\n",
    "# will return a sequence of results for each text.\n",
    "for line in tqdm(text_list):\n",
    "    if isinstance(line, six.binary_type):\n",
    "        line = line.decode(\"utf-8\")\n",
    "    result = translate_client.translate(line, target_language='en')\n",
    "    result_list.append(result)\n",
    "\n",
    "# print(u\"Text: {}\".format(result[\"input\"]))\n",
    "# print(u\"Translation: {}\".format(result[\"translatedText\"]))\n",
    "# print(u\"Detected source language: {}\".format(result[\"detectedSourceLanguage\"]))"
   ]
  },
  {
   "cell_type": "code",
   "execution_count": 10,
   "metadata": {},
   "outputs": [],
   "source": [
    "text_file2 = open(\"eng_gtranslate.txt\", \"a\")\n",
    "for line in result_list:\n",
    "    text_file2.write(f\"{line['translatedText']}\\n\")\n",
    "text_file2.close()"
   ]
  },
  {
   "cell_type": "code",
   "execution_count": 20,
   "metadata": {},
   "outputs": [
    {
     "data": {
      "text/plain": [
       "'i don&#39;t like my room.'"
      ]
     },
     "execution_count": 20,
     "metadata": {},
     "output_type": "execute_result"
    }
   ],
   "source": [
    "result_list[0]['translatedText'].encode('utf-8').decode('utf-8')"
   ]
  },
  {
   "cell_type": "code",
   "execution_count": 23,
   "metadata": {},
   "outputs": [
    {
     "data": {
      "text/html": [
       "<div>\n",
       "<style scoped>\n",
       "    .dataframe tbody tr th:only-of-type {\n",
       "        vertical-align: middle;\n",
       "    }\n",
       "\n",
       "    .dataframe tbody tr th {\n",
       "        vertical-align: top;\n",
       "    }\n",
       "\n",
       "    .dataframe thead th {\n",
       "        text-align: right;\n",
       "    }\n",
       "</style>\n",
       "<table border=\"1\" class=\"dataframe\">\n",
       "  <thead>\n",
       "    <tr style=\"text-align: right;\">\n",
       "      <th></th>\n",
       "      <th>translatedText</th>\n",
       "      <th>detectedSourceLanguage</th>\n",
       "      <th>input</th>\n",
       "    </tr>\n",
       "  </thead>\n",
       "  <tbody>\n",
       "    <tr>\n",
       "      <th>0</th>\n",
       "      <td>i don't like my room.</td>\n",
       "      <td>pt</td>\n",
       "      <td>eu não gosto da minha sala .</td>\n",
       "    </tr>\n",
       "    <tr>\n",
       "      <th>1</th>\n",
       "      <td>it won't work.</td>\n",
       "      <td>pt</td>\n",
       "      <td>não funcionará .</td>\n",
       "    </tr>\n",
       "    <tr>\n",
       "      <th>2</th>\n",
       "      <td>tom's parents live in a big house.</td>\n",
       "      <td>pt</td>\n",
       "      <td>os pais do tom moram em uma casa grande .</td>\n",
       "    </tr>\n",
       "    <tr>\n",
       "      <th>3</th>\n",
       "      <td>this is more difficult than I expected.</td>\n",
       "      <td>pt</td>\n",
       "      <td>isso é mais difícil do que eu esperava .</td>\n",
       "    </tr>\n",
       "    <tr>\n",
       "      <th>4</th>\n",
       "      <td>the tone French is very good.</td>\n",
       "      <td>pt</td>\n",
       "      <td>o francês do tom é muito bom .</td>\n",
       "    </tr>\n",
       "    <tr>\n",
       "      <th>...</th>\n",
       "      <td>...</td>\n",
       "      <td>...</td>\n",
       "      <td>...</td>\n",
       "    </tr>\n",
       "    <tr>\n",
       "      <th>16508</th>\n",
       "      <td>tone was not clear.</td>\n",
       "      <td>pt</td>\n",
       "      <td>tom não foi claro .</td>\n",
       "    </tr>\n",
       "    <tr>\n",
       "      <th>16509</th>\n",
       "      <td>tom was really sad.</td>\n",
       "      <td>pt</td>\n",
       "      <td>tom estava realmente triste .</td>\n",
       "    </tr>\n",
       "    <tr>\n",
       "      <th>16510</th>\n",
       "      <td>Tom will not help Mary.</td>\n",
       "      <td>pt</td>\n",
       "      <td>tom não ajudará a mary .</td>\n",
       "    </tr>\n",
       "    <tr>\n",
       "      <th>16511</th>\n",
       "      <td>watch the front.</td>\n",
       "      <td>pt</td>\n",
       "      <td>vigia a frente .</td>\n",
       "    </tr>\n",
       "    <tr>\n",
       "      <th>16512</th>\n",
       "      <td></td>\n",
       "      <td>en</td>\n",
       "      <td></td>\n",
       "    </tr>\n",
       "  </tbody>\n",
       "</table>\n",
       "<p>16513 rows × 3 columns</p>\n",
       "</div>"
      ],
      "text/plain": [
       "                                translatedText detectedSourceLanguage  \\\n",
       "0                        i don't like my room.                     pt   \n",
       "1                               it won't work.                     pt   \n",
       "2           tom's parents live in a big house.                     pt   \n",
       "3      this is more difficult than I expected.                     pt   \n",
       "4                the tone French is very good.                     pt   \n",
       "...                                        ...                    ...   \n",
       "16508                      tone was not clear.                     pt   \n",
       "16509                      tom was really sad.                     pt   \n",
       "16510                  Tom will not help Mary.                     pt   \n",
       "16511                         watch the front.                     pt   \n",
       "16512                                                              en   \n",
       "\n",
       "                                           input  \n",
       "0                   eu não gosto da minha sala .  \n",
       "1                               não funcionará .  \n",
       "2      os pais do tom moram em uma casa grande .  \n",
       "3       isso é mais difícil do que eu esperava .  \n",
       "4                 o francês do tom é muito bom .  \n",
       "...                                          ...  \n",
       "16508                        tom não foi claro .  \n",
       "16509              tom estava realmente triste .  \n",
       "16510                   tom não ajudará a mary .  \n",
       "16511                           vigia a frente .  \n",
       "16512                                             \n",
       "\n",
       "[16513 rows x 3 columns]"
      ]
     },
     "execution_count": 23,
     "metadata": {},
     "output_type": "execute_result"
    }
   ],
   "source": [
    "import pandas as pd\n",
    "\n",
    "for i, line in enumerate(result_list):\n",
    "    new_line = line\n",
    "    new_line['translatedText'] = new_line['translatedText'].replace('&#39;', \"'\")\n",
    "    result_list[i] = new_line\n",
    "pd.DataFrame(result_list)"
   ]
  },
  {
   "cell_type": "code",
   "execution_count": 26,
   "metadata": {},
   "outputs": [
    {
     "data": {
      "text/html": [
       "<div>\n",
       "<style scoped>\n",
       "    .dataframe tbody tr th:only-of-type {\n",
       "        vertical-align: middle;\n",
       "    }\n",
       "\n",
       "    .dataframe tbody tr th {\n",
       "        vertical-align: top;\n",
       "    }\n",
       "\n",
       "    .dataframe thead th {\n",
       "        text-align: right;\n",
       "    }\n",
       "</style>\n",
       "<table border=\"1\" class=\"dataframe\">\n",
       "  <thead>\n",
       "    <tr style=\"text-align: right;\">\n",
       "      <th></th>\n",
       "      <th>translatedText</th>\n",
       "      <th>detectedSourceLanguage</th>\n",
       "      <th>input</th>\n",
       "    </tr>\n",
       "  </thead>\n",
       "  <tbody>\n",
       "    <tr>\n",
       "      <th>16493</th>\n",
       "      <td>I can work here ?</td>\n",
       "      <td>pt</td>\n",
       "      <td>posso trabalhar aqui ?</td>\n",
       "    </tr>\n",
       "    <tr>\n",
       "      <th>16494</th>\n",
       "      <td>this information is not correct.</td>\n",
       "      <td>pt</td>\n",
       "      <td>essa informação não é correta .</td>\n",
       "    </tr>\n",
       "    <tr>\n",
       "      <th>16495</th>\n",
       "      <td>they will come back.</td>\n",
       "      <td>pt</td>\n",
       "      <td>eles voltarão .</td>\n",
       "    </tr>\n",
       "    <tr>\n",
       "      <th>16496</th>\n",
       "      <td>let me sit in the back.</td>\n",
       "      <td>pt</td>\n",
       "      <td>deixe me sentar atrás .</td>\n",
       "    </tr>\n",
       "    <tr>\n",
       "      <th>16497</th>\n",
       "      <td>who conducts the tests?</td>\n",
       "      <td>pt</td>\n",
       "      <td>quem conduz os testes ?</td>\n",
       "    </tr>\n",
       "    <tr>\n",
       "      <th>16498</th>\n",
       "      <td>Please pack the letters carefully.</td>\n",
       "      <td>es</td>\n",
       "      <td>por favor embaralhe as cartas cuidadosamente .</td>\n",
       "    </tr>\n",
       "    <tr>\n",
       "      <th>16499</th>\n",
       "      <td>where did tom live?</td>\n",
       "      <td>pt</td>\n",
       "      <td>onde tom morou ?</td>\n",
       "    </tr>\n",
       "    <tr>\n",
       "      <th>16500</th>\n",
       "      <td>welcome back . we miss you .</td>\n",
       "      <td>pt</td>\n",
       "      <td>bem vindo de volta . sentimos a sua falta .</td>\n",
       "    </tr>\n",
       "    <tr>\n",
       "      <th>16501</th>\n",
       "      <td>the cats are on the roof.</td>\n",
       "      <td>pt</td>\n",
       "      <td>os gatos estão no telhado .</td>\n",
       "    </tr>\n",
       "    <tr>\n",
       "      <th>16502</th>\n",
       "      <td>I saw a man's face in the window.</td>\n",
       "      <td>pt</td>\n",
       "      <td>eu vi o rosto de um homem na janela .</td>\n",
       "    </tr>\n",
       "    <tr>\n",
       "      <th>16503</th>\n",
       "      <td>understood ? more or less .</td>\n",
       "      <td>pt</td>\n",
       "      <td>entendeu ? mais ou menos .</td>\n",
       "    </tr>\n",
       "    <tr>\n",
       "      <th>16504</th>\n",
       "      <td>they gave us their word.</td>\n",
       "      <td>pt</td>\n",
       "      <td>eles nos deram a palavra deles .</td>\n",
       "    </tr>\n",
       "    <tr>\n",
       "      <th>16505</th>\n",
       "      <td>tom speaks french like a native.</td>\n",
       "      <td>pt</td>\n",
       "      <td>tom fala francês como um nativo .</td>\n",
       "    </tr>\n",
       "    <tr>\n",
       "      <th>16506</th>\n",
       "      <td>he can only pay twenty dollars at most.</td>\n",
       "      <td>pt</td>\n",
       "      <td>ele só pode pagar vinte dólares no máximo .</td>\n",
       "    </tr>\n",
       "    <tr>\n",
       "      <th>16507</th>\n",
       "      <td>it looks stupid.</td>\n",
       "      <td>pt</td>\n",
       "      <td>isso parece estupidez .</td>\n",
       "    </tr>\n",
       "    <tr>\n",
       "      <th>16508</th>\n",
       "      <td>tone was not clear.</td>\n",
       "      <td>pt</td>\n",
       "      <td>tom não foi claro .</td>\n",
       "    </tr>\n",
       "    <tr>\n",
       "      <th>16509</th>\n",
       "      <td>tom was really sad.</td>\n",
       "      <td>pt</td>\n",
       "      <td>tom estava realmente triste .</td>\n",
       "    </tr>\n",
       "    <tr>\n",
       "      <th>16510</th>\n",
       "      <td>Tom will not help Mary.</td>\n",
       "      <td>pt</td>\n",
       "      <td>tom não ajudará a mary .</td>\n",
       "    </tr>\n",
       "    <tr>\n",
       "      <th>16511</th>\n",
       "      <td>watch the front.</td>\n",
       "      <td>pt</td>\n",
       "      <td>vigia a frente .</td>\n",
       "    </tr>\n",
       "    <tr>\n",
       "      <th>16512</th>\n",
       "      <td></td>\n",
       "      <td>en</td>\n",
       "      <td></td>\n",
       "    </tr>\n",
       "  </tbody>\n",
       "</table>\n",
       "</div>"
      ],
      "text/plain": [
       "                                translatedText detectedSourceLanguage  \\\n",
       "16493                        I can work here ?                     pt   \n",
       "16494         this information is not correct.                     pt   \n",
       "16495                     they will come back.                     pt   \n",
       "16496                  let me sit in the back.                     pt   \n",
       "16497                  who conducts the tests?                     pt   \n",
       "16498       Please pack the letters carefully.                     es   \n",
       "16499                      where did tom live?                     pt   \n",
       "16500             welcome back . we miss you .                     pt   \n",
       "16501                the cats are on the roof.                     pt   \n",
       "16502        I saw a man's face in the window.                     pt   \n",
       "16503              understood ? more or less .                     pt   \n",
       "16504                 they gave us their word.                     pt   \n",
       "16505         tom speaks french like a native.                     pt   \n",
       "16506  he can only pay twenty dollars at most.                     pt   \n",
       "16507                         it looks stupid.                     pt   \n",
       "16508                      tone was not clear.                     pt   \n",
       "16509                      tom was really sad.                     pt   \n",
       "16510                  Tom will not help Mary.                     pt   \n",
       "16511                         watch the front.                     pt   \n",
       "16512                                                              en   \n",
       "\n",
       "                                                input  \n",
       "16493                          posso trabalhar aqui ?  \n",
       "16494                 essa informação não é correta .  \n",
       "16495                                 eles voltarão .  \n",
       "16496                         deixe me sentar atrás .  \n",
       "16497                         quem conduz os testes ?  \n",
       "16498  por favor embaralhe as cartas cuidadosamente .  \n",
       "16499                                onde tom morou ?  \n",
       "16500     bem vindo de volta . sentimos a sua falta .  \n",
       "16501                     os gatos estão no telhado .  \n",
       "16502           eu vi o rosto de um homem na janela .  \n",
       "16503                     entendeu ? mais ou menos .   \n",
       "16504                eles nos deram a palavra deles .  \n",
       "16505               tom fala francês como um nativo .  \n",
       "16506     ele só pode pagar vinte dólares no máximo .  \n",
       "16507                         isso parece estupidez .  \n",
       "16508                             tom não foi claro .  \n",
       "16509                   tom estava realmente triste .  \n",
       "16510                        tom não ajudará a mary .  \n",
       "16511                                vigia a frente .  \n",
       "16512                                                  "
      ]
     },
     "execution_count": 26,
     "metadata": {},
     "output_type": "execute_result"
    }
   ],
   "source": []
  },
  {
   "cell_type": "markdown",
   "metadata": {},
   "source": [
    "**Loading references**"
   ]
  },
  {
   "cell_type": "code",
   "execution_count": 40,
   "metadata": {},
   "outputs": [],
   "source": [
    "ref_file = open(\"/home/arthurtelles/Downloads/eng_test.txt\", \"r+\").read()\n",
    "ref_list = ref_file.split('\\n')"
   ]
  },
  {
   "cell_type": "code",
   "execution_count": 28,
   "metadata": {},
   "outputs": [
    {
     "name": "stdout",
     "output_type": "stream",
     "text": [
      "16513 16513\n"
     ]
    }
   ],
   "source": [
    "print(len(ref_list), len(result_list))"
   ]
  },
  {
   "cell_type": "code",
   "execution_count": 36,
   "metadata": {},
   "outputs": [
    {
     "data": {
      "text/plain": [
       "0.7647256496733583"
      ]
     },
     "execution_count": 36,
     "metadata": {},
     "output_type": "execute_result"
    }
   ],
   "source": [
    "from nltk.translate.bleu_score import corpus_bleu\n",
    "from typing import List, Tuple, Dict, Set, Union\n",
    "\n",
    "def compute_corpus_level_bleu_scoreresult_list(references: List[List[str]], hypotheses: List[str]) -> float:\n",
    "    \"\"\" Given decoding results and reference sentences, compute corpus-level BLEU score.\n",
    "    @param references (List[List[str]]): a list of gold-standard reference target sentences\n",
    "    @param hypotheses (List[Hypothesis]): a list of hypotheses, one for each reference\n",
    "    @returns bleu_score: corpus-level BLEU score\n",
    "    \"\"\"\n",
    "    if references[0][0] == '<s>':\n",
    "        references = [ref[1:-1] for ref in references]\n",
    "    bleu_score = corpus_bleu([[ref] for ref in references],\n",
    "                             [hyp for hyp in hypotheses])\n",
    "    return bleu_score\n",
    "\n",
    "translated_list = [result['translatedText'] for result in result_list]\n",
    "compute_corpus_level_bleu_score(list(ref_list), translated_list)"
   ]
  },
  {
   "cell_type": "markdown",
   "metadata": {},
   "source": [
    "**Loading transformer translations**"
   ]
  },
  {
   "cell_type": "code",
   "execution_count": 39,
   "metadata": {},
   "outputs": [],
   "source": [
    "nmt_file = open(\"/home/arthurtelles/Downloads/translations.txt\", \"r+\").read()\n",
    "nmt_list = nmt_file.split('\\n')"
   ]
  },
  {
   "cell_type": "code",
   "execution_count": 41,
   "metadata": {},
   "outputs": [
    {
     "name": "stdout",
     "output_type": "stream",
     "text": [
      "16513 16513\n"
     ]
    }
   ],
   "source": [
    "print(len(nmt_list), len(result_list))"
   ]
  },
  {
   "cell_type": "code",
   "execution_count": 42,
   "metadata": {},
   "outputs": [
    {
     "data": {
      "text/plain": [
       "0.6834019971487161"
      ]
     },
     "execution_count": 42,
     "metadata": {},
     "output_type": "execute_result"
    }
   ],
   "source": [
    "compute_corpus_level_bleu_score(list(ref_list), nmt_list)"
   ]
  },
  {
   "cell_type": "markdown",
   "metadata": {},
   "source": [
    "### Counting unique words in vocabulary"
   ]
  },
  {
   "cell_type": "code",
   "execution_count": 12,
   "metadata": {},
   "outputs": [
    {
     "data": {
      "text/plain": [
       "0.8099930351573146"
      ]
     },
     "execution_count": 12,
     "metadata": {},
     "output_type": "execute_result"
    }
   ],
   "source": [
    "133742/165115"
   ]
  },
  {
   "cell_type": "code",
   "execution_count": 10,
   "metadata": {},
   "outputs": [
    {
     "name": "stdout",
     "output_type": "stream",
     "text": [
      "165115 16513 133742\n"
     ]
    }
   ],
   "source": [
    "text_file = open(\"/home/arthurtelles/Documents/other_repositories/pt_customized_transformer/data/port.txt\", \"r+\").read()\n",
    "text_file_test = open(\"/home/arthurtelles/Documents/other_repositories/pt_customized_transformer/data/port_test.txt\", \"r+\").read()\n",
    "text_file_train = open(\"/home/arthurtelles/Documents/other_repositories/pt_customized_transformer/data/port_train.txt\", \"r+\").read()\n",
    "print(len(text_file.split('\\n')), len(text_file_test.split('\\n')), len(text_file_train.split('\\n')))"
   ]
  },
  {
   "cell_type": "code",
   "execution_count": 2,
   "metadata": {},
   "outputs": [
    {
     "data": {
      "text/plain": [
       "'vai .\\nvá .\\nir .\\noi .\\ncorre !\\ncorra !\\ncorram !\\ncorre !\\ncorra !\\ncorram !\\nquem ?\\nque\\nuau !\\nnossa !\\nwow !\\nfogo !\\nincêndio !\\nchama !\\najuda !\\nsocorro !\\npule !\\npula !\\npulem .\\npule .\\npulam .\\npare !\\nparem !\\nparada !\\nponto !\\npará !\\nespere !\\naguarde !\\nespere !\\nesperem .\\nsiga em frente .\\nvá !\\ncontinue .\\nsiga adiante .\\noi .\\nalô .\\nolá !\\nalô !\\neu corri .\\neu sei .\\neu entendo .\\nestou vendo .\\neu vejo .\\neu assisto .\\neu tento .\\ntento .\\nganhei !\\neu venci .\\nah não !\\nrelaxe !\\nrelaxa !\\ntiro !\\nsorria .\\nsorriam .\\natacar '"
      ]
     },
     "execution_count": 2,
     "metadata": {},
     "output_type": "execute_result"
    }
   ],
   "source": [
    "text_file[:500]"
   ]
  },
  {
   "cell_type": "code",
   "execution_count": 3,
   "metadata": {},
   "outputs": [
    {
     "data": {
      "text/plain": [
       "'!\"#$%&\\'()*+,-./:;<=>?@[\\\\]^_`{|}~'"
      ]
     },
     "execution_count": 3,
     "metadata": {},
     "output_type": "execute_result"
    }
   ],
   "source": [
    "import string\n",
    "string.punctuation"
   ]
  },
  {
   "cell_type": "code",
   "execution_count": 13,
   "metadata": {},
   "outputs": [
    {
     "name": "stdout",
     "output_type": "stream",
     "text": [
      "Text contains 992970 words and 20880 unique words\n",
      "Text contains 99713 words and 7768 unique words\n",
      "Text contains 803877 words and 19372 unique words\n"
     ]
    }
   ],
   "source": [
    "import re, string\n",
    "\n",
    "def generate_corpus_statistics(text_file: str):\n",
    "    ftext_file = text_file.replace('\\n', '')\n",
    "    for punct in string.punctuation:\n",
    "        ftext_file = ftext_file.replace(punct, '')\n",
    "    ftext_list = ftext_file.split(' ')\n",
    "    print(f'Text contains {len(ftext_list)} words and {len(set(ftext_list))} unique words')\n",
    "generate_corpus_statistics(text_file)\n",
    "generate_corpus_statistics(text_file_test)\n",
    "generate_corpus_statistics(text_file_train)"
   ]
  },
  {
   "cell_type": "code",
   "execution_count": 14,
   "metadata": {},
   "outputs": [
    {
     "data": {
      "text/plain": [
       "0.9277777777777778"
      ]
     },
     "execution_count": 14,
     "metadata": {},
     "output_type": "execute_result"
    }
   ],
   "source": [
    "19372/20880"
   ]
  },
  {
   "cell_type": "code",
   "execution_count": null,
   "metadata": {},
   "outputs": [],
   "source": []
  }
 ],
 "metadata": {
  "kernelspec": {
   "display_name": "ds_env",
   "language": "python",
   "name": "ds_env"
  },
  "language_info": {
   "codemirror_mode": {
    "name": "ipython",
    "version": 3
   },
   "file_extension": ".py",
   "mimetype": "text/x-python",
   "name": "python",
   "nbconvert_exporter": "python",
   "pygments_lexer": "ipython3",
   "version": "3.8.2"
  }
 },
 "nbformat": 4,
 "nbformat_minor": 4
}

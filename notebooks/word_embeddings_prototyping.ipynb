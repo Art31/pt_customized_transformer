{
 "cells": [
  {
   "cell_type": "code",
   "execution_count": 4,
   "metadata": {},
   "outputs": [],
   "source": [
    "from gensim.models import KeyedVectors\n",
    "model = KeyedVectors.load_word2vec_format('../word_embeddings/glove_s300.txt')"
   ]
  },
  {
   "cell_type": "code",
   "execution_count": 5,
   "metadata": {},
   "outputs": [
    {
     "data": {
      "text/plain": [
       "dict_keys(['syn0', 'syn0norm', 'vocab', 'index2word', 'vector_size'])"
      ]
     },
     "execution_count": 5,
     "metadata": {},
     "output_type": "execute_result"
    }
   ],
   "source": [
    "model.__dict__.keys()"
   ]
  },
  {
   "cell_type": "code",
   "execution_count": 7,
   "metadata": {},
   "outputs": [
    {
     "data": {
      "text/plain": [
       "dict_keys(['syn0', 'syn0norm', 'vocab', 'index2word', 'vector_size'])"
      ]
     },
     "execution_count": 7,
     "metadata": {},
     "output_type": "execute_result"
    }
   ],
   "source": [
    "model.wv.__dict__.keys()"
   ]
  },
  {
   "cell_type": "code",
   "execution_count": 10,
   "metadata": {},
   "outputs": [
    {
     "data": {
      "text/plain": [
       "(929605, 300)"
      ]
     },
     "execution_count": 10,
     "metadata": {},
     "output_type": "execute_result"
    }
   ],
   "source": [
    "model.syn0.shape"
   ]
  },
  {
   "cell_type": "code",
   "execution_count": 20,
   "metadata": {},
   "outputs": [
    {
     "data": {
      "text/plain": [
       "torch.float32"
      ]
     },
     "execution_count": 20,
     "metadata": {},
     "output_type": "execute_result"
    }
   ],
   "source": [
    "import torch\n",
    "torch.from_numpy(model.syn0).dtype"
   ]
  },
  {
   "cell_type": "code",
   "execution_count": 22,
   "metadata": {},
   "outputs": [],
   "source": [
    "import torch.nn as nn\n",
    "embedd = nn.Embedding.from_pretrained(torch.from_numpy(model.syn0))"
   ]
  },
  {
   "cell_type": "code",
   "execution_count": 8,
   "metadata": {},
   "outputs": [
    {
     "data": {
      "text/plain": [
       "0.6715221406712216"
      ]
     },
     "execution_count": 8,
     "metadata": {},
     "output_type": "execute_result"
    }
   ],
   "source": [
    "model.similarity('homem', 'mulher')"
   ]
  },
  {
   "cell_type": "code",
   "execution_count": 6,
   "metadata": {},
   "outputs": [
    {
     "data": {
      "text/plain": [
       "<gensim.models.keyedvectors.KeyedVectors at 0x7fa5d57cbbe0>"
      ]
     },
     "execution_count": 6,
     "metadata": {},
     "output_type": "execute_result"
    }
   ],
   "source": [
    "model"
   ]
  },
  {
   "cell_type": "code",
   "execution_count": 22,
   "metadata": {},
   "outputs": [
    {
     "name": "stdout",
     "output_type": "stream",
     "text": [
      "1o mais semelhante rainha: 0.7193\n",
      "2o mais semelhante filha: 0.6311\n",
      "3o mais semelhante esposa: 0.6274\n"
     ]
    }
   ],
   "source": [
    "n_words = 3\n",
    "result = model.most_similar(positive=['mulher', 'rei'], negative=['homem'])\n",
    "for i in range(n_words):\n",
    "    most_similar_key, similarity = result[i] \n",
    "    print(f\"{i+1}o mais semelhante {most_similar_key}: {similarity:.4f}\")"
   ]
  },
  {
   "cell_type": "code",
   "execution_count": 31,
   "metadata": {},
   "outputs": [
    {
     "name": "stdout",
     "output_type": "stream",
     "text": [
      "1o mais semelhante governador: 0.5797\n",
      "2o mais semelhante vice: 0.5491\n",
      "3o mais semelhante senador: 0.5313\n"
     ]
    }
   ],
   "source": [
    "n_words = 3\n",
    "result = model.most_similar(positive=['estadual', 'prefeito'], negative=['municipal'])\n",
    "for i in range(n_words):\n",
    "    most_similar_key, similarity = result[i] \n",
    "    print(f\"{i+1}o mais semelhante {most_similar_key}: {similarity:.4f}\")"
   ]
  },
  {
   "cell_type": "code",
   "execution_count": 27,
   "metadata": {},
   "outputs": [
    {
     "data": {
      "text/plain": [
       "array([-2.516100e-02,  2.496630e-01,  7.612010e-01, -5.079890e-01,\n",
       "       -1.232670e-01,  2.561200e-01, -2.109180e-01, -6.091630e-01,\n",
       "        1.882610e-01, -1.567660e-01, -2.907160e-01,  2.116400e-02,\n",
       "       -3.810460e-01, -2.861070e-01,  5.432560e-01, -2.308250e-01,\n",
       "        4.662070e-01, -4.589200e-02,  1.859900e-02, -2.942000e-02,\n",
       "       -1.944460e-01, -1.130540e-01, -1.253900e-02,  2.525720e-01,\n",
       "       -8.880400e-02, -3.569400e-01, -4.692860e-01, -5.551530e-01,\n",
       "       -4.690450e-01, -1.320800e-02,  1.379250e-01,  1.788100e-02,\n",
       "       -1.459100e-02,  3.315410e-01, -2.252510e-01, -1.944820e-01,\n",
       "        7.211400e-01, -1.575020e-01, -6.080480e-01,  2.307180e-01,\n",
       "       -1.916980e-01,  2.415430e-01, -3.244430e-01, -6.031590e-01,\n",
       "       -4.090170e-01,  7.128300e-02,  4.044590e-01, -3.909060e-01,\n",
       "       -6.567100e-02,  4.486060e-01, -7.328900e-02, -2.864010e-01,\n",
       "        3.189470e-01, -5.139440e-01, -6.008000e-02, -4.775260e-01,\n",
       "        2.222370e-01, -8.362800e-02,  4.545210e-01, -4.788820e-01,\n",
       "        2.484600e-01,  4.028500e-01,  1.017090e-01,  1.956080e-01,\n",
       "        2.899100e-02, -6.809100e-02, -3.517920e-01, -3.848310e-01,\n",
       "       -2.942490e-01, -1.353180e-01, -1.772410e-01, -1.031010e-01,\n",
       "       -3.683600e-02,  6.135880e-01,  4.878990e-01,  2.759950e-01,\n",
       "        1.144560e-01,  3.821800e-02, -4.510520e-01,  4.388350e-01,\n",
       "       -4.331600e-02, -1.237210e-01,  1.468860e-01,  4.582140e-01,\n",
       "        1.849160e-01, -4.450890e-01, -8.838500e-02,  1.062090e-01,\n",
       "       -6.278950e-01, -2.955270e-01,  2.650400e-01, -6.095600e-02,\n",
       "        5.958500e-02, -3.723600e-02,  7.369100e-02, -2.461500e-02,\n",
       "       -6.555500e-02,  1.069020e-01, -1.228300e-02,  7.934300e-02,\n",
       "        9.951200e-02, -3.237930e-01,  9.590450e-01, -6.186420e-01,\n",
       "        3.270296e+00, -2.925540e-01,  2.105980e-01,  2.608930e-01,\n",
       "        4.113860e-01, -7.534690e-01,  1.549580e-01, -1.773800e-02,\n",
       "       -3.327640e-01,  4.046270e-01,  3.715380e-01, -9.661800e-02,\n",
       "        3.378790e-01,  9.454300e-02,  5.096750e-01,  2.745200e-01,\n",
       "       -6.914300e-02,  5.404750e-01,  1.044850e-01, -4.943960e-01,\n",
       "       -1.631630e-01,  7.806000e-02,  4.494410e-01, -3.804910e-01,\n",
       "        3.696410e-01, -4.811590e-01,  2.001750e-01, -2.734350e-01,\n",
       "       -2.568660e-01,  3.180570e-01, -5.687630e-01,  2.276170e-01,\n",
       "        8.817300e-02, -3.531400e-02,  4.782340e-01,  3.886800e-01,\n",
       "       -3.042830e-01, -1.800000e-02,  5.529980e-01,  1.328650e-01,\n",
       "       -2.925800e-01,  2.967730e-01,  5.627200e-02,  5.249210e-01,\n",
       "        5.706290e-01,  1.663410e-01,  4.454630e-01,  5.587660e-01,\n",
       "        8.854900e-02, -1.638100e-01, -6.671800e-02,  1.977100e-01,\n",
       "        2.479980e-01, -6.229030e-01,  1.107440e-01,  1.555510e-01,\n",
       "        9.269800e-02,  3.019930e-01, -3.344140e-01,  2.764960e-01,\n",
       "       -3.361720e-01,  4.416800e-02, -1.024360e-01, -1.293360e-01,\n",
       "       -1.161990e-01, -4.739000e-01,  3.796730e-01, -3.302290e-01,\n",
       "       -2.514520e-01, -1.859700e-01,  2.188320e-01,  3.696400e-01,\n",
       "        3.782010e-01,  4.581850e-01, -3.308620e-01, -2.367930e-01,\n",
       "       -5.169180e-01,  1.612170e-01,  1.692110e-01, -6.733720e-01,\n",
       "       -6.376830e-01, -2.846990e-01, -1.527150e-01, -2.944600e-02,\n",
       "       -6.432500e-02,  3.091630e-01, -2.243310e-01,  7.355250e-01,\n",
       "       -2.316410e-01, -3.363390e-01, -1.269510e-01, -2.771900e-01,\n",
       "        1.571010e-01,  3.871100e-01,  1.119670e-01, -5.671300e-02,\n",
       "       -1.265040e-01, -1.823330e-01,  3.536750e-01,  2.692560e-01,\n",
       "       -1.899680e-01, -3.700350e-01,  2.790510e-01,  1.243100e-01,\n",
       "        4.200840e-01,  1.162080e-01,  4.474300e-02, -5.334630e-01,\n",
       "       -3.539430e-01,  1.046290e-01,  1.216231e+00,  3.155450e-01,\n",
       "        5.710900e-02, -3.268270e-01, -1.510800e-02,  1.369520e-01,\n",
       "        4.494410e-01, -2.341900e-02, -5.716150e-01,  1.526260e-01,\n",
       "       -1.975510e-01,  2.693000e-02,  8.556500e-02,  2.403130e-01,\n",
       "        2.365830e-01, -5.060900e-02, -5.875200e-01,  3.016300e-01,\n",
       "        2.935610e-01,  1.370830e-01,  1.189150e-01, -4.814300e-01,\n",
       "       -2.478350e-01,  8.389000e-03,  1.704900e-02, -1.689900e-01,\n",
       "        1.364680e+00,  6.108440e-01, -1.148760e-01, -4.977000e-03,\n",
       "       -1.182010e-01, -1.639240e-01, -1.256570e-01,  3.763660e-01,\n",
       "       -2.439530e-01,  1.875180e-01,  4.358330e-01,  3.995140e-01,\n",
       "        1.479200e-02, -1.382190e-01, -9.979700e-02,  1.532600e-01,\n",
       "        6.958800e-02,  8.456150e-01,  2.453280e-01, -8.585430e-01,\n",
       "        2.837280e-01, -3.633910e-01,  1.643670e-01, -1.645020e-01,\n",
       "       -3.534540e-01, -3.285800e-02,  2.834650e-01, -3.574560e-01,\n",
       "        8.369150e-01,  5.910000e-04,  2.353930e-01,  7.077860e-01,\n",
       "       -1.096230e-01,  6.983900e-02, -4.107660e-01, -2.612690e-01,\n",
       "        9.704600e-02, -2.295410e-01, -1.816000e-03,  1.645780e-01,\n",
       "        3.057830e-01, -2.584620e-01,  1.814670e-01, -6.147900e-02,\n",
       "        1.496480e-01,  5.101410e-01,  4.538500e-02,  2.494380e-01,\n",
       "       -5.153230e-01,  6.468870e-01,  7.352500e-02, -2.744080e-01,\n",
       "       -4.813170e-01,  5.250000e-02,  3.334020e-01,  3.439160e-01,\n",
       "       -1.023900e-01, -2.407880e-01, -4.898790e-01,  6.282230e-01],\n",
       "      dtype=float32)"
      ]
     },
     "execution_count": 27,
     "metadata": {},
     "output_type": "execute_result"
    }
   ],
   "source": [
    "model['mulher']"
   ]
  },
  {
   "cell_type": "code",
   "execution_count": 24,
   "metadata": {},
   "outputs": [
    {
     "data": {
      "text/plain": [
       "tensor([[ 1.5618,  1.8095, -0.4428,  1.4139, -0.2165, -0.3955, -1.0795, -0.9187,\n",
       "          0.1217, -0.3522,  2.2369, -0.7248,  0.4596,  0.3213, -0.7953,  0.3126,\n",
       "         -0.3494,  2.5460, -1.1335,  1.1384, -0.7674,  1.8880,  0.0528,  0.3389,\n",
       "          0.1913,  0.6400, -0.8925,  0.2960,  0.4843, -1.2907, -0.6762, -0.6498,\n",
       "          0.3639, -1.5820, -0.4924, -1.1676,  0.8433,  0.4067,  1.1516, -0.5426,\n",
       "         -0.9142,  1.4109,  0.1067, -0.6588,  0.6069, -1.0809,  1.6449, -1.1664,\n",
       "         -0.1244, -1.6576]], grad_fn=<EmbeddingBackward>)"
      ]
     },
     "execution_count": 24,
     "metadata": {},
     "output_type": "execute_result"
    }
   ],
   "source": [
    "import torch\n",
    "import torch.nn as nn\n",
    "nn.Embedding(1, 50)(torch.LongTensor([0]))\n",
    "# embed(torch.LongTensor([5]))"
   ]
  },
  {
   "cell_type": "code",
   "execution_count": null,
   "metadata": {},
   "outputs": [],
   "source": []
  },
  {
   "cell_type": "code",
   "execution_count": null,
   "metadata": {},
   "outputs": [],
   "source": []
  }
 ],
 "metadata": {
  "kernelspec": {
   "display_name": "Python 3",
   "language": "python",
   "name": "python3"
  },
  "language_info": {
   "codemirror_mode": {
    "name": "ipython",
    "version": 3
   },
   "file_extension": ".py",
   "mimetype": "text/x-python",
   "name": "python",
   "nbconvert_exporter": "python",
   "pygments_lexer": "ipython3",
   "version": "3.6.12"
  }
 },
 "nbformat": 4,
 "nbformat_minor": 4
}
